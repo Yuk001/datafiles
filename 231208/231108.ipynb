{
  "nbformat": 4,
  "nbformat_minor": 0,
  "metadata": {
    "colab": {
      "provenance": []
    },
    "kernelspec": {
      "name": "python3",
      "display_name": "Python 3"
    },
    "language_info": {
      "name": "python"
    }
  },
  "cells": [
    {
      "cell_type": "code",
      "execution_count": null,
      "metadata": {
        "id": "QkWuKDgaKJvr"
      },
      "outputs": [],
      "source": [
        "mport pandas as pd\n",
        "import numpy as np\n",
        "import glob\n",
        "\n",
        "#ファイルを読み込む\n",
        "file_list = glob.glob('/content/*.csv')\n",
        "print(file_list) #取り込んだファイルの順序を表示する\n",
        "\n",
        "Broc = []\n",
        "data_list = []\n",
        "for file in file_list:\n",
        "  df = pd.read_csv(file)\n",
        "  Broc.append(df['Broc'][0]) # ブロッコリー収穫量をリスト化する　Xにあたる\n",
        "\n",
        "  df = df[['temp','prec', 'sun', 'snow', 'humi']] # 気象データ5条件を取り出す\n",
        "  data_list.append(df.values.ravel()) # (365, 5)データを一次元配列にして、19ファイル分リスト化する　yにあたる\n",
        "\n",
        "# 線形で回帰する\n",
        "from sklearn.model_selection import train_test_split\n",
        "from sklearn.linear_model import LinearRegression\n",
        "\n",
        "X_train, X_test, y_train, y_test = train_test_split(data_list, Broc, test_size= 0.3, random_state=0)\n",
        "model = LinearRegression()\n",
        "model.fit(X_train, y_train)\n",
        "model.score(X_test,y_test)\n",
        "model.predict(X_test)\n",
        "\n",
        "# ランダムフォレストで回帰する場合\n",
        "from sklearn.ensemble import RandomForestRegressor\n",
        "model = RandomForestRegressor(n_estimators=10, criterion='squared_error', max_depth=None)\n",
        "model.fit(X_train, y_train)\n",
        "model.score(X_test,y_test)\n",
        "model.predict(X_test)"
      ]
    }
  ]
}