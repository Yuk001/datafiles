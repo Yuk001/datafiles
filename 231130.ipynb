{
  "nbformat": 4,
  "nbformat_minor": 0,
  "metadata": {
    "colab": {
      "provenance": []
    },
    "kernelspec": {
      "name": "python3",
      "display_name": "Python 3"
    },
    "language_info": {
      "name": "python"
    }
  },
  "cells": [
    {
      "cell_type": "markdown",
      "source": [
        "# 365列1行データに変換する\n",
        "Tempはndarray型\n",
        "、Brocはlist型"
      ],
      "metadata": {
        "id": "TDBSMvo6uSsb"
      }
    },
    {
      "cell_type": "code",
      "execution_count": null,
      "metadata": {
        "id": "FkVe7JtQtyEH"
      },
      "outputs": [],
      "source": [
        "import glob\n",
        "import pandas as pd\n",
        "\n",
        "#ファイルを読み込む\n",
        "file_list = glob.glob('/content/*.csv')\n",
        "print(type(file_list))\n",
        "print(file_list)\n",
        "\n",
        "# リストにデータを追加する\n",
        "Broc = []\n",
        "Temp = []\n",
        "\n",
        "# df = pd.read_csv('/content/tBroc_pref_df.csv')\n",
        "for f in file_list:\n",
        "  df= pd.read_csv(f) # 個別にファイル名を指定\n",
        "\n",
        "  df = df.T #行列を入れ替える\n",
        "\n",
        "  df.columns = df.iloc[0] #日付をカラムにする\n",
        "\n",
        "  df = df.drop(df.index[0]) #日付行を削除する\n",
        "\n",
        "  # リストにデータを追加する\n",
        "  Broc.append(df.loc['Broc'][0]) #BrocリストにBrocの値を追加\n",
        "\n",
        "  Temp.append(df.loc['temp'].values) # TempリストにTempの値を追加\n",
        "\n",
        "Date = []\n",
        "Date.append(df.columns) # DateリストにDateを追加　一つだけで良い"
      ]
    },
    {
      "cell_type": "markdown",
      "source": [
        "#機械学習"
      ],
      "metadata": {
        "id": "BiHS8Ac2u0WW"
      }
    },
    {
      "cell_type": "code",
      "source": [
        "# 回帰する\n",
        "from sklearn.model_selection import train_test_split\n",
        "from sklearn.linear_model import LinearRegression\n",
        "from sklearn.ensemble import RandomForestClassifier\n",
        "\n",
        "X_train, X_test, y_train, y_test = train_test_split(Temp, Broc, test_size= 0.5, random_state=1000)\n",
        "#model = LinearRegression()\n",
        "model = RandomForestClassifier(random_state= 1000)\n",
        "model.fit(X_train, y_train)\n",
        "model.score(X_test,y_test)\n",
        "#model.predict(X_test)\n"
      ],
      "metadata": {
        "id": "bxG7dXpsuLTS"
      },
      "execution_count": null,
      "outputs": []
    }
  ]
}